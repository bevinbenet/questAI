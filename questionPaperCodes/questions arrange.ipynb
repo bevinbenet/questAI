{
 "cells": [
  {
   "cell_type": "code",
   "execution_count": 39,
   "id": "30ef913e",
   "metadata": {},
   "outputs": [],
   "source": [
    "import pandas as pd;\n",
    "import numpy as np;\n",
    "import array as arr"
   ]
  },
  {
   "cell_type": "code",
   "execution_count": 40,
   "id": "b232efc4",
   "metadata": {},
   "outputs": [
    {
     "name": "stdout",
     "output_type": "stream",
     "text": [
      "Enter section number:3\n"
     ]
    }
   ],
   "source": [
    "questionNumber=[]\n",
    "markSection=[]\n",
    "sectionNumber = int(input(\"Enter section number:\"));\n",
    "sectionNumber+=1;"
   ]
  },
  {
   "cell_type": "code",
   "execution_count": 41,
   "id": "7ba5b52e",
   "metadata": {},
   "outputs": [
    {
     "name": "stdout",
     "output_type": "stream",
     "text": [
      "Enter the number of question in section 1 : 8\n",
      "Enter the mark of each question in section 1 : 1\n",
      "Enter the number of question in section 2 : 6\n",
      "Enter the mark of each question in section 2 : 2\n",
      "Enter the number of question in section 3 : 2\n",
      "Enter the mark of each question in section 3 : 5\n"
     ]
    }
   ],
   "source": [
    "for i in range(1,sectionNumber):\n",
    "    questionNumber.append(input(\"Enter the number of question in section \"+str(i)+\" : \"));\n",
    "    markSection.append(input(\"Enter the mark of each question in section \"+str(i)+\" : \"));\n",
    "    \n"
   ]
  },
  {
   "cell_type": "code",
   "execution_count": 43,
   "id": "8c93ef1d",
   "metadata": {},
   "outputs": [
    {
     "name": "stdout",
     "output_type": "stream",
     "text": [
      "['8', '6', '2']\n",
      "['1', '2', '5']\n"
     ]
    }
   ],
   "source": [
    "print(questionNumber)\n",
    "print(markSection)"
   ]
  },
  {
   "cell_type": "code",
   "execution_count": 44,
   "id": "9371b4ba",
   "metadata": {},
   "outputs": [
    {
     "name": "stdout",
     "output_type": "stream",
     "text": [
      "8\n",
      "6\n",
      "2\n"
     ]
    }
   ],
   "source": [
    "for i in questionNumber:\n",
    "    for "
   ]
  },
  {
   "cell_type": "code",
   "execution_count": null,
   "id": "805257e3",
   "metadata": {},
   "outputs": [],
   "source": []
  }
 ],
 "metadata": {
  "kernelspec": {
   "display_name": "Python 3 (ipykernel)",
   "language": "python",
   "name": "python3"
  },
  "language_info": {
   "codemirror_mode": {
    "name": "ipython",
    "version": 3
   },
   "file_extension": ".py",
   "mimetype": "text/x-python",
   "name": "python",
   "nbconvert_exporter": "python",
   "pygments_lexer": "ipython3",
   "version": "3.9.12"
  },
  "vscode": {
   "interpreter": {
    "hash": "d0d701aab22be69794f73a4b1eac71486834359efbe3bb96bc7ce25be5e8d236"
   }
  }
 },
 "nbformat": 4,
 "nbformat_minor": 5
}
